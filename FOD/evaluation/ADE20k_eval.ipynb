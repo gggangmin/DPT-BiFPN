{
 "cells": [
  {
   "cell_type": "code",
   "execution_count": 7,
   "metadata": {},
   "outputs": [],
   "source": [
    "import torch\n",
    "import os\n",
    "from PIL import Image\n",
    "import numpy as np"
   ]
  },
  {
   "cell_type": "code",
   "execution_count": 8,
   "metadata": {},
   "outputs": [],
   "source": [
    "def pixel_accuracy(pred,gt):\n",
    "    pred = torch.from_numpy(pred)\n",
    "    gt = torch.from_numpy(gt)\n",
    "    correct = torch.eq(pred,gt).int()\n",
    "    accuracy = float(correct.sum()) / float(correct.numel())\n",
    "    return accuracy"
   ]
  },
  {
   "cell_type": "code",
   "execution_count": 9,
   "metadata": {},
   "outputs": [],
   "source": [
    "def pixel_iou(pred,gt):\n",
    "    pred = torch.from_numpy(pred)\n",
    "    gt = torch.from_numpy(gt)\n",
    "    intersection = (pred&gt).float().sum()\n",
    "    union = (pred|gt).float().sum()\n",
    "    iou = torch.where(union>0, intersection/union,torch.zeros_like(intersection))\n",
    "    return iou"
   ]
  },
  {
   "cell_type": "code",
   "execution_count": 10,
   "metadata": {},
   "outputs": [
    {
     "name": "stdout",
     "output_type": "stream",
     "text": [
      "0.9621687018261761\n",
      "0.3619418\n"
     ]
    }
   ],
   "source": [
    "#bifpn3의 segmentation 결과\n",
    "\n",
    "pred_path = '/home/proj01/DPT-BiFPN/FOD/output/segmentations/'\n",
    "gt_path = '/home/proj01/DPT-BiFPN/FOD/evaluation/segmentation/ADE20K_human/seg/'\n",
    "pred_list = os.listdir(pred_path)\n",
    "accuracy = []\n",
    "iou = []\n",
    "for file in pred_list:\n",
    "    pred_arr = np.array(Image.open(pred_path+file),dtype = np.uint8)\n",
    "    gt_arr = np.array(Image.open(gt_path+file[:-4]+\".png\"),dtype=np.uint8)\n",
    "    accuracy.append(pixel_accuracy(pred_arr,gt_arr))\n",
    "    iou.append(pixel_iou(pred_arr,gt_arr))\n",
    "print(np.mean(accuracy))\n",
    "print(np.mean(iou))"
   ]
  },
  {
   "cell_type": "code",
   "execution_count": 6,
   "metadata": {},
   "outputs": [
    {
     "name": "stdout",
     "output_type": "stream",
     "text": [
      "0.9640987210950986\n",
      "0.44608495\n"
     ]
    }
   ],
   "source": [
    "pred_path = '/home/proj01/FocusOnDepth/output/segmentations/'\n",
    "gt_path = '/home/proj01/DPT-BiFPN/FOD/evaluation/segmentation/ADE20K_human/seg/'\n",
    "pred_list = os.listdir(pred_path)\n",
    "accuracy = []\n",
    "iou = []\n",
    "for file in pred_list:\n",
    "    pred_arr = np.array(Image.open(pred_path+file),dtype = np.uint8)\n",
    "    gt_arr = np.array(Image.open(gt_path+file[:-4]+\".png\"),dtype=np.uint8)\n",
    "    accuracy.append(pixel_accuracy(pred_arr,gt_arr))\n",
    "    iou.append(pixel_iou(pred_arr,gt_arr))\n",
    "print(np.mean(accuracy))\n",
    "print(np.mean(iou))"
   ]
  },
  {
   "cell_type": "code",
   "execution_count": null,
   "metadata": {},
   "outputs": [],
   "source": []
  }
 ],
 "metadata": {
  "kernelspec": {
   "display_name": "dpt",
   "language": "python",
   "name": "python3"
  },
  "language_info": {
   "codemirror_mode": {
    "name": "ipython",
    "version": 3
   },
   "file_extension": ".py",
   "mimetype": "text/x-python",
   "name": "python",
   "nbconvert_exporter": "python",
   "pygments_lexer": "ipython3",
   "version": "3.7.11"
  },
  "orig_nbformat": 4
 },
 "nbformat": 4,
 "nbformat_minor": 2
}
