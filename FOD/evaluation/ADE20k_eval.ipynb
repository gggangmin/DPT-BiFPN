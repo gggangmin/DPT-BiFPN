{
 "cells": [
  {
   "cell_type": "code",
   "execution_count": 1,
   "metadata": {},
   "outputs": [],
   "source": [
    "import torch\n",
    "import os\n",
    "from PIL import Image\n",
    "import numpy as np\n",
    "import eval_segm as es"
   ]
  },
  {
   "cell_type": "code",
   "execution_count": 2,
   "metadata": {},
   "outputs": [
    {
     "name": "stdout",
     "output_type": "stream",
     "text": [
      "0.9618936122379342\n",
      "0.7197821847504959\n",
      "0.662228825708783\n"
     ]
    }
   ],
   "source": [
    "#bifpn3의 segmentation 결과\n",
    "\n",
    "pred_path = '/root/dpb/DPT-BiFPN/FOD/output/segmentations/'\n",
    "gt_path = '/root/dpb/DPT-BiFPN/FOD/evaluation/segmentation/ADE20K_human/seg/'\n",
    "pred_list = os.listdir(pred_path)\n",
    "accuracy = []\n",
    "maccuracy=[]\n",
    "iou = []\n",
    "for file in pred_list:\n",
    "    pred_arr = np.array(Image.open(pred_path+file),dtype = np.uint8)\n",
    "    gt_arr = np.array(Image.open(gt_path+file[:-4]+\".png\"),dtype=np.uint8)\n",
    "\n",
    "    accuracy.append(es.pixel_accuracy(pred_arr,gt_arr))\n",
    "    maccuracy.append(es.mean_accuracy(pred_arr,gt_arr))\n",
    "    iou.append(es.mean_IU(pred_arr,gt_arr))\n",
    "print(np.mean(accuracy))\n",
    "print(np.mean(maccuracy))\n",
    "print(np.mean(iou))"
   ]
  },
  {
   "cell_type": "code",
   "execution_count": 29,
   "metadata": {},
   "outputs": [
    {
     "data": {
      "text/plain": [
       "256"
      ]
     },
     "execution_count": 29,
     "metadata": {},
     "output_type": "execute_result"
    }
   ],
   "source": [
    "len(gt_arr)\n",
    "len(gt_arr[0])"
   ]
  },
  {
   "cell_type": "code",
   "execution_count": null,
   "metadata": {},
   "outputs": [],
   "source": []
  },
  {
   "cell_type": "code",
   "execution_count": null,
   "metadata": {},
   "outputs": [],
   "source": []
  },
  {
   "cell_type": "code",
   "execution_count": 7,
   "metadata": {},
   "outputs": [
    {
     "ename": "FileNotFoundError",
     "evalue": "[Errno 2] No such file or directory: '/root/dpb/FocusOnDepth/output/segmentations/'",
     "output_type": "error",
     "traceback": [
      "\u001b[0;31m---------------------------------------------------------------------------\u001b[0m",
      "\u001b[0;31mFileNotFoundError\u001b[0m                         Traceback (most recent call last)",
      "\u001b[0;32m/tmp/ipykernel_26751/1390390774.py\u001b[0m in \u001b[0;36m<module>\u001b[0;34m\u001b[0m\n\u001b[1;32m      1\u001b[0m \u001b[0mpred_path\u001b[0m \u001b[0;34m=\u001b[0m \u001b[0;34m'/root/dpb/FocusOnDepth/output/segmentations/'\u001b[0m\u001b[0;34m\u001b[0m\u001b[0;34m\u001b[0m\u001b[0m\n\u001b[1;32m      2\u001b[0m \u001b[0mgt_path\u001b[0m \u001b[0;34m=\u001b[0m \u001b[0;34m'/root/dpb/DPT-BiFPN/FOD/evaluation/segmentation/ADE20K_human/seg/'\u001b[0m\u001b[0;34m\u001b[0m\u001b[0;34m\u001b[0m\u001b[0m\n\u001b[0;32m----> 3\u001b[0;31m \u001b[0mpred_list\u001b[0m \u001b[0;34m=\u001b[0m \u001b[0mos\u001b[0m\u001b[0;34m.\u001b[0m\u001b[0mlistdir\u001b[0m\u001b[0;34m(\u001b[0m\u001b[0mpred_path\u001b[0m\u001b[0;34m)\u001b[0m\u001b[0;34m\u001b[0m\u001b[0;34m\u001b[0m\u001b[0m\n\u001b[0m\u001b[1;32m      4\u001b[0m \u001b[0maccuracy\u001b[0m \u001b[0;34m=\u001b[0m \u001b[0;34m[\u001b[0m\u001b[0;34m]\u001b[0m\u001b[0;34m\u001b[0m\u001b[0;34m\u001b[0m\u001b[0m\n\u001b[1;32m      5\u001b[0m \u001b[0miou\u001b[0m \u001b[0;34m=\u001b[0m \u001b[0;34m[\u001b[0m\u001b[0;34m]\u001b[0m\u001b[0;34m\u001b[0m\u001b[0;34m\u001b[0m\u001b[0m\n",
      "\u001b[0;31mFileNotFoundError\u001b[0m: [Errno 2] No such file or directory: '/root/dpb/FocusOnDepth/output/segmentations/'"
     ]
    }
   ],
   "source": [
    "pred_path = '/root/dpb/FocusOnDepth/output/segmentations/'\n",
    "gt_path = '/root/dpb/DPT-BiFPN/FOD/evaluation/segmentation/ADE20K_human/seg/'\n",
    "pred_list = os.listdir(pred_path)\n",
    "accuracy = []\n",
    "iou = []\n",
    "for file in pred_list:\n",
    "    pred_arr = np.array(Image.open(pred_path+file),dtype = np.uint8)\n",
    "    gt_arr = np.array(Image.open(gt_path+file[:-4]+\".png\"),dtype=np.uint8)\n",
    "    accuracy.append(pixel_accuracy(pred_arr,gt_arr))\n",
    "    iou.append(pixel_iou(pred_arr,gt_arr))\n",
    "print(np.mean(accuracy))\n",
    "print(np.mean(iou))"
   ]
  },
  {
   "cell_type": "code",
   "execution_count": null,
   "metadata": {},
   "outputs": [],
   "source": []
  }
 ],
 "metadata": {
  "kernelspec": {
   "display_name": "dpt",
   "language": "python",
   "name": "python3"
  },
  "language_info": {
   "codemirror_mode": {
    "name": "ipython",
    "version": 3
   },
   "file_extension": ".py",
   "mimetype": "text/x-python",
   "name": "python",
   "nbconvert_exporter": "python",
   "pygments_lexer": "ipython3",
   "version": "3.7.5"
  },
  "orig_nbformat": 4
 },
 "nbformat": 4,
 "nbformat_minor": 2
}
